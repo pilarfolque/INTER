{
 "cells": [
  {
   "cell_type": "markdown",
   "metadata": {
    "id": "88Sou7SHHd_R"
   },
   "source": [
    "# Prueba Intertrimestral\n",
    "\n",
    "Nombre y Apellidos: Pilar Folque\n",
    "\n",
    "Tiempo de la prueba: 1h y 45 mins\n",
    "\n",
    "Asignatura: Desarrollo de Aplicaciones para la Visualización de Datos\n",
    "\n",
    "Fecha: 14 de octubre de 2024\n",
    "\n",
    "Instrucciones:\n",
    "\n",
    "- Herramientas Sugeridas: Python (pandas, matplotlib, seaborn, scikit-learn).\n",
    "\n",
    "- Evaluación: Se valorará la capacidad para interpretar los resultados y la claridad en la exposición de las conclusiones.\n",
    "\n",
    "- Materiales permitidos: Materiales de clase. Internet para búsqueda de dudas y documentación.\n",
    "\n",
    "- Prohibido: Mingún tipo de LLM, ni mensajería instantánea.\n",
    "\n",
    "- Formato de Entrega: Los estudiantes deben presentar su trabajo en formato de notebook (por ejemplo, Jupyter Notebook), con gráficos y explicaciones detalladas.\n",
    "\n",
    "- Entrega: Subir .ipynb y PDF a Github. Enviar resultados al siguiente enlace. Para crear PDF: File -> Print -> Destination as PDF\n",
    "\n",
    "## [Entrega aquí el examen](https://forms.gle/gU7aKkzE7didZpYV7)\n",
    "\n",
    "\n"
   ]
  },
  {
   "cell_type": "markdown",
   "metadata": {
    "id": "pUwXXeE2Hdls"
   },
   "source": [
    "Carga aquí las librerías que creas que vayas a utilizar:"
   ]
  },
  {
   "cell_type": "code",
   "execution_count": 74,
   "metadata": {
    "id": "sDeaGenSMpiA"
   },
   "outputs": [],
   "source": [
    "import pandas as pd\n",
    "import numpy as np\n",
    "import sklearn.datasets\n",
    "\n",
    "\n",
    "import numpy as np\n",
    "import matplotlib.pyplot as plt\n",
    "import plotly.express as px\n",
    "import plotly.graph_objects as go\n",
    "\n",
    "from sklearn.model_selection import train_test_split\n",
    "from sklearn.linear_model import LinearRegression\n",
    "from sklearn.ensemble import RandomForestRegressor\n",
    "from sklearn.metrics import (\n",
    "    r2_score,\n",
    "    mean_absolute_error,\n",
    "    mean_squared_error,\n",
    "    classification_report,\n",
    "    confusion_matrix\n",
    ")\n",
    "from sklearn.pipeline import Pipeline\n",
    "from sklearn.preprocessing import StandardScaler\n",
    "from sklearn.linear_model import SGDClassifier, LogisticRegression\n",
    "import matplotlib.pyplot as plt"
   ]
  },
  {
   "cell_type": "markdown",
   "metadata": {
    "id": "0xueu6PRIPRY"
   },
   "source": [
    "# Ejercicio 1: Programación (2 puntos)\n",
    "\n",
    "a) Crea una función que calcule y devuelva el valor de la iteración $n+1$ del mapa logístico dada la fórmula:\n",
    "\n",
    "$x_{n+1}=r⋅x_n⋅(1−x_n)$\n",
    "\n",
    "donde:\n",
    "\n",
    "- $r$ es la tasa de crecimiento\n",
    "- $x_n$ es el valor de la iteración anterior.\n",
    "\n",
    "La función debe aceptar como parámetros $r$ y $x_n$ (valor inicial). (0.6 puntos)\n"
   ]
  },
  {
   "cell_type": "code",
   "execution_count": 7,
   "metadata": {
    "id": "IBKpNT1xIPBv"
   },
   "outputs": [
    {
     "data": {
      "text/plain": [
       "-2"
      ]
     },
     "execution_count": 7,
     "metadata": {},
     "output_type": "execute_result"
    }
   ],
   "source": [
    "def programacion(r,xn):\n",
    "\n",
    "    xn1=r*xn*(1-xn)\n",
    "    return xn1\n",
    "programacion(1,2)"
   ]
  },
  {
   "cell_type": "markdown",
   "metadata": {
    "id": "pZRyqLY1JHjB"
   },
   "source": [
    "b) Crea una función que genere una lista con las primeras n iteraciones del mapa logístico, utilizando la función anterior. (0.6 puntos)"
   ]
  },
  {
   "cell_type": "code",
   "execution_count": 8,
   "metadata": {
    "id": "t_vZFPcCHa-B"
   },
   "outputs": [
    {
     "data": {
      "text/plain": [
       "[-2, -2, -2]"
      ]
     },
     "execution_count": 8,
     "metadata": {},
     "output_type": "execute_result"
    }
   ],
   "source": [
    "#generar lista primeras n iteraciones del mapa logistico\n",
    "def listaniteraciones(n,r,xn):\n",
    "    lista=[]\n",
    "    #en cada iteracion calcular el valor y guardarlo en la llista\n",
    "    #recorrer lista n veces\n",
    "    for i in range(n):\n",
    "        xn1= programacion(r,xn)\n",
    "        lista.append(xn1)\n",
    "    return lista\n",
    "listaniteraciones(3,1,2)"
   ]
  },
  {
   "cell_type": "markdown",
   "metadata": {
    "id": "NUjP9f38JPKw"
   },
   "source": [
    "c) Guarda en un dataframe las iteraciones del mapa logístico, para $r = \\{0, 0.25, 0.5, 0.75, \\dots, 4\\}$ y semilla $x_0 = 0.2$. El dataframe debe tener tres columnas: $r$, $n$ y $x_{n+1}$. Muestra los 10 primeros resultados (0.6 puntos)"
   ]
  },
  {
   "cell_type": "code",
   "execution_count": 9,
   "metadata": {
    "id": "lq3ZBPJNJizC"
   },
   "outputs": [],
   "source": [
    "#guardar en un dataframe las iteraciones del mapa logistico\n",
    "#la r va cambiando {0,0.25,0.5,0.75,…,4}\n",
    "# semilla  𝑥0=0.2\n",
    "#dataframe con tres columnas\n",
    "\n",
    "df = pd.DataFrame(columns=['r', 'n', 'xn1'])\n"
   ]
  },
  {
   "cell_type": "code",
   "execution_count": 13,
   "metadata": {},
   "outputs": [
    {
     "data": {
      "text/plain": [
       "16.0"
      ]
     },
     "execution_count": 13,
     "metadata": {},
     "output_type": "execute_result"
    }
   ],
   "source": [
    "4/0.25"
   ]
  },
  {
   "cell_type": "code",
   "execution_count": 19,
   "metadata": {},
   "outputs": [],
   "source": [
    "r=[]\n",
    "n=0.25\n",
    "r.append(n)\n",
    "for i in range(0,16):\n",
    "    n+=0.25\n",
    "    r.append(n)\n",
    "    #print(r[i])\n",
    "#print(r)\n",
    "        "
   ]
  },
  {
   "cell_type": "code",
   "execution_count": 27,
   "metadata": {},
   "outputs": [],
   "source": [
    "xn=0.2\n",
    "for i in range(len(r)):\n",
    "    xn= programacion(r[i],xn)\n",
    "    df.loc[i] = [r[i], i, xn]"
   ]
  },
  {
   "cell_type": "code",
   "execution_count": 30,
   "metadata": {},
   "outputs": [
    {
     "data": {
      "text/html": [
       "<div>\n",
       "<style scoped>\n",
       "    .dataframe tbody tr th:only-of-type {\n",
       "        vertical-align: middle;\n",
       "    }\n",
       "\n",
       "    .dataframe tbody tr th {\n",
       "        vertical-align: top;\n",
       "    }\n",
       "\n",
       "    .dataframe thead th {\n",
       "        text-align: right;\n",
       "    }\n",
       "</style>\n",
       "<table border=\"1\" class=\"dataframe\">\n",
       "  <thead>\n",
       "    <tr style=\"text-align: right;\">\n",
       "      <th></th>\n",
       "      <th>r</th>\n",
       "      <th>n</th>\n",
       "      <th>xn1</th>\n",
       "    </tr>\n",
       "  </thead>\n",
       "  <tbody>\n",
       "    <tr>\n",
       "      <th>0</th>\n",
       "      <td>0.25</td>\n",
       "      <td>0.0</td>\n",
       "      <td>0.040000</td>\n",
       "    </tr>\n",
       "    <tr>\n",
       "      <th>1</th>\n",
       "      <td>0.50</td>\n",
       "      <td>1.0</td>\n",
       "      <td>0.019200</td>\n",
       "    </tr>\n",
       "    <tr>\n",
       "      <th>2</th>\n",
       "      <td>0.75</td>\n",
       "      <td>2.0</td>\n",
       "      <td>0.014124</td>\n",
       "    </tr>\n",
       "    <tr>\n",
       "      <th>3</th>\n",
       "      <td>1.00</td>\n",
       "      <td>3.0</td>\n",
       "      <td>0.013924</td>\n",
       "    </tr>\n",
       "    <tr>\n",
       "      <th>4</th>\n",
       "      <td>1.25</td>\n",
       "      <td>4.0</td>\n",
       "      <td>0.017163</td>\n",
       "    </tr>\n",
       "    <tr>\n",
       "      <th>5</th>\n",
       "      <td>1.50</td>\n",
       "      <td>5.0</td>\n",
       "      <td>0.025302</td>\n",
       "    </tr>\n",
       "    <tr>\n",
       "      <th>6</th>\n",
       "      <td>1.75</td>\n",
       "      <td>6.0</td>\n",
       "      <td>0.043159</td>\n",
       "    </tr>\n",
       "    <tr>\n",
       "      <th>7</th>\n",
       "      <td>2.00</td>\n",
       "      <td>7.0</td>\n",
       "      <td>0.082592</td>\n",
       "    </tr>\n",
       "    <tr>\n",
       "      <th>8</th>\n",
       "      <td>2.25</td>\n",
       "      <td>8.0</td>\n",
       "      <td>0.170483</td>\n",
       "    </tr>\n",
       "    <tr>\n",
       "      <th>9</th>\n",
       "      <td>2.50</td>\n",
       "      <td>9.0</td>\n",
       "      <td>0.353547</td>\n",
       "    </tr>\n",
       "  </tbody>\n",
       "</table>\n",
       "</div>"
      ],
      "text/plain": [
       "      r    n       xn1\n",
       "0  0.25  0.0  0.040000\n",
       "1  0.50  1.0  0.019200\n",
       "2  0.75  2.0  0.014124\n",
       "3  1.00  3.0  0.013924\n",
       "4  1.25  4.0  0.017163\n",
       "5  1.50  5.0  0.025302\n",
       "6  1.75  6.0  0.043159\n",
       "7  2.00  7.0  0.082592\n",
       "8  2.25  8.0  0.170483\n",
       "9  2.50  9.0  0.353547"
      ]
     },
     "execution_count": 30,
     "metadata": {},
     "output_type": "execute_result"
    }
   ],
   "source": [
    "df.head(10)"
   ]
  },
  {
   "cell_type": "markdown",
   "metadata": {
    "id": "beRXaA63Hcqy"
   },
   "source": [
    "d) ¿Cómo se podría programar en una clase las dos funciones anteriores para calcular y almacenar iteraciones del mapa logístico? Proporciona la implementación de la clase con un método para obtener el valor de una iteración específica, otro método para generar la lista completa de iteraciones y otro para crear un gráfico que visualice el $r$ y $x_{n+1}$. (0.2 puntos)"
   ]
  },
  {
   "cell_type": "code",
   "execution_count": 33,
   "metadata": {
    "id": "t8QzMql1J9ys"
   },
   "outputs": [],
   "source": [
    "class data():\n",
    "    def __init__(self):\n",
    "        #obtener valor iteracion especifica\n",
    "        #generar lista completa iteraciones\n",
    "        #generar grafico que visualice\n",
    "        #dos atributos: la iteracion y la lista\n",
    "        lista=[]\n",
    "        self.lista=lista\n",
    "        self.iteracion=None\n",
    "        \n",
    "    def programacion(self,r,xn):\n",
    "        xn1=r*xn*(1-xn)\n",
    "        return xn1\n",
    "    \n",
    "    def listaniteraciones(self,n,r,xn):\n",
    "        lista=[]\n",
    "        #en cada iteracion calcular el valor y guardarlo en la llista\n",
    "        #recorrer lista n veces\n",
    "        for i in range(self,n):\n",
    "            xn1= programacion(r,xn)\n",
    "            lista.append(xn1)\n",
    "        return lista\n",
    "    \n",
    "    def plot(self,r,xn1):\n",
    "        plt.plot(r, xn1, color='blue', marker='o', linestyle='--', linewidth=2, markersize=8)\n",
    "        plt.xlabel('Eje r')\n",
    "        plt.ylabel('Eje xn1')\n",
    "        plt.grid(True)\n",
    "        plt.show()\n",
    "        "
   ]
  },
  {
   "cell_type": "markdown",
   "metadata": {
    "id": "FJpVCuaYKu8h"
   },
   "source": [
    "# Ejercicio 2: Exploración y comprensión (3 puntos)\n",
    "\n",
    "a) Describe las principales variables del dataset proporcionado. ¿Qué información aportan y qué tipo de datos contiene cada una? ¿Existen valores faltantes en el dataset? Si es así, ¿en qué variables? ¿Qué propones para resolverlo? (1 puntos)\n"
   ]
  },
  {
   "cell_type": "code",
   "execution_count": 41,
   "metadata": {
    "id": "lXPpo8qfLFqm"
   },
   "outputs": [
    {
     "name": "stdout",
     "output_type": "stream",
     "text": [
      "   Store        Date  Weekly_Sales  Holiday_Flag  Temperature  Fuel_Price  \\\n",
      "0      1  05-02-2010    1643690.90             0        42.31       2.572   \n",
      "1      1  12-02-2010    1641957.44             1        38.51       2.548   \n",
      "2      1  19-02-2010    1611968.17             0        39.93       2.514   \n",
      "3      1  26-02-2010    1409727.59             0        46.63       2.561   \n",
      "4      1  05-03-2010    1554806.68             0        46.50       2.625   \n",
      "\n",
      "          CPI  Unemployment  \n",
      "0  211.096358         8.106  \n",
      "1  211.242170         8.106  \n",
      "2  211.289143         8.106  \n",
      "3  211.319643         8.106  \n",
      "4  211.350143         8.106  \n"
     ]
    }
   ],
   "source": [
    "dataset=pd.read_csv(\"Walmart.csv\")\n",
    "print(dataset.head())\n"
   ]
  },
  {
   "cell_type": "code",
   "execution_count": 42,
   "metadata": {},
   "outputs": [
    {
     "name": "stdout",
     "output_type": "stream",
     "text": [
      "(6435, 8)\n"
     ]
    }
   ],
   "source": [
    "print(dataset.shape)\n"
   ]
  },
  {
   "cell_type": "code",
   "execution_count": 48,
   "metadata": {},
   "outputs": [
    {
     "name": "stdout",
     "output_type": "stream",
     "text": [
      "Store             int64\n",
      "Date             object\n",
      "Weekly_Sales    float64\n",
      "Holiday_Flag      int64\n",
      "Temperature     float64\n",
      "Fuel_Price      float64\n",
      "CPI             float64\n",
      "Unemployment    float64\n",
      "dtype: object\n"
     ]
    }
   ],
   "source": [
    "print(dataset.dtypes)"
   ]
  },
  {
   "cell_type": "markdown",
   "metadata": {},
   "source": [
    "Se trata de un conjunto de 8 variable de tipo entero,float u objecy."
   ]
  },
  {
   "cell_type": "code",
   "execution_count": 43,
   "metadata": {},
   "outputs": [
    {
     "name": "stdout",
     "output_type": "stream",
     "text": [
      "Store           0\n",
      "Date            0\n",
      "Weekly_Sales    0\n",
      "Holiday_Flag    0\n",
      "Temperature     0\n",
      "Fuel_Price      0\n",
      "CPI             0\n",
      "Unemployment    1\n",
      "dtype: int64\n"
     ]
    }
   ],
   "source": [
    "print(dataset.isna().sum())\n"
   ]
  },
  {
   "cell_type": "code",
   "execution_count": 50,
   "metadata": {},
   "outputs": [
    {
     "data": {
      "text/plain": [
       "Store           0\n",
       "Date            0\n",
       "Weekly_Sales    0\n",
       "Holiday_Flag    0\n",
       "Temperature     0\n",
       "Fuel_Price      0\n",
       "CPI             0\n",
       "Unemployment    1\n",
       "dtype: int64"
      ]
     },
     "execution_count": 50,
     "metadata": {},
     "output_type": "execute_result"
    }
   ],
   "source": [
    "dataset.isnull().sum()"
   ]
  },
  {
   "cell_type": "markdown",
   "metadata": {},
   "source": [
    "Solo hay na en la variable unemployment.\n",
    "Para resolver lo de los valores faltando hacer: .dropna\n"
   ]
  },
  {
   "cell_type": "code",
   "execution_count": 53,
   "metadata": {},
   "outputs": [
    {
     "name": "stdout",
     "output_type": "stream",
     "text": [
      "(6434, 8)\n"
     ]
    }
   ],
   "source": [
    "dataset = dataset.dropna()\n",
    "#print(dataset.isna().sum())\n",
    "print(dataset.shape)"
   ]
  },
  {
   "cell_type": "markdown",
   "metadata": {
    "id": "hcWrbBn5LbFk"
   },
   "source": [
    "b) Realiza un gráfico de barras que responda las siguientes preguntas. ¿Cuántas tiendas $Store$ están presentes en el dataset? ¿Cuál es la media de ventas semanales $Weekly Sales$ por tienda? ¿Qué tiendas tienen las ventas promedio más altas y más bajas? (1 puntos)\n",
    "\n"
   ]
  },
  {
   "cell_type": "code",
   "execution_count": null,
   "metadata": {
    "id": "1dvF3cSGLjK9"
   },
   "outputs": [],
   "source": [
    "#grafico de barras\n",
    "#numero de tiendas store\n",
    "#media de ventas semana Weeklysales por tieda\n",
    "#tiendas con ventas promedio más altas y más bajas"
   ]
  },
  {
   "cell_type": "code",
   "execution_count": 52,
   "metadata": {},
   "outputs": [
    {
     "name": "stdout",
     "output_type": "stream",
     "text": [
      "   Store        Date  Weekly_Sales  Holiday_Flag  Temperature  Fuel_Price  \\\n",
      "0      1  05-02-2010    1643690.90             0        42.31       2.572   \n",
      "1      1  12-02-2010    1641957.44             1        38.51       2.548   \n",
      "2      1  19-02-2010    1611968.17             0        39.93       2.514   \n",
      "3      1  26-02-2010    1409727.59             0        46.63       2.561   \n",
      "4      1  05-03-2010    1554806.68             0        46.50       2.625   \n",
      "\n",
      "          CPI  Unemployment  \n",
      "0  211.096358         8.106  \n",
      "1  211.242170         8.106  \n",
      "2  211.289143         8.106  \n",
      "3  211.319643         8.106  \n",
      "4  211.350143         8.106  \n"
     ]
    }
   ],
   "source": [
    "print(dataset.head())"
   ]
  },
  {
   "cell_type": "code",
   "execution_count": 57,
   "metadata": {},
   "outputs": [
    {
     "data": {
      "text/html": [
       "<div>\n",
       "<style scoped>\n",
       "    .dataframe tbody tr th:only-of-type {\n",
       "        vertical-align: middle;\n",
       "    }\n",
       "\n",
       "    .dataframe tbody tr th {\n",
       "        vertical-align: top;\n",
       "    }\n",
       "\n",
       "    .dataframe thead th {\n",
       "        text-align: right;\n",
       "    }\n",
       "</style>\n",
       "<table border=\"1\" class=\"dataframe\">\n",
       "  <thead>\n",
       "    <tr style=\"text-align: right;\">\n",
       "      <th></th>\n",
       "      <th>Store</th>\n",
       "      <th>Date</th>\n",
       "      <th>Weekly_Sales</th>\n",
       "      <th>Holiday_Flag</th>\n",
       "      <th>Temperature</th>\n",
       "      <th>Fuel_Price</th>\n",
       "      <th>CPI</th>\n",
       "      <th>Unemployment</th>\n",
       "    </tr>\n",
       "  </thead>\n",
       "  <tbody>\n",
       "    <tr>\n",
       "      <th>count</th>\n",
       "      <td>6434.000000</td>\n",
       "      <td>6434</td>\n",
       "      <td>6.434000e+03</td>\n",
       "      <td>6434.000000</td>\n",
       "      <td>6434.000000</td>\n",
       "      <td>6434.000000</td>\n",
       "      <td>6434.000000</td>\n",
       "      <td>6434.000000</td>\n",
       "    </tr>\n",
       "    <tr>\n",
       "      <th>unique</th>\n",
       "      <td>NaN</td>\n",
       "      <td>143</td>\n",
       "      <td>NaN</td>\n",
       "      <td>NaN</td>\n",
       "      <td>NaN</td>\n",
       "      <td>NaN</td>\n",
       "      <td>NaN</td>\n",
       "      <td>NaN</td>\n",
       "    </tr>\n",
       "    <tr>\n",
       "      <th>top</th>\n",
       "      <td>NaN</td>\n",
       "      <td>05-02-2010</td>\n",
       "      <td>NaN</td>\n",
       "      <td>NaN</td>\n",
       "      <td>NaN</td>\n",
       "      <td>NaN</td>\n",
       "      <td>NaN</td>\n",
       "      <td>NaN</td>\n",
       "    </tr>\n",
       "    <tr>\n",
       "      <th>freq</th>\n",
       "      <td>NaN</td>\n",
       "      <td>45</td>\n",
       "      <td>NaN</td>\n",
       "      <td>NaN</td>\n",
       "      <td>NaN</td>\n",
       "      <td>NaN</td>\n",
       "      <td>NaN</td>\n",
       "      <td>NaN</td>\n",
       "    </tr>\n",
       "    <tr>\n",
       "      <th>mean</th>\n",
       "      <td>22.996581</td>\n",
       "      <td>NaN</td>\n",
       "      <td>1.047016e+06</td>\n",
       "      <td>0.069941</td>\n",
       "      <td>60.664434</td>\n",
       "      <td>3.358512</td>\n",
       "      <td>171.575168</td>\n",
       "      <td>7.999047</td>\n",
       "    </tr>\n",
       "    <tr>\n",
       "      <th>std</th>\n",
       "      <td>12.986295</td>\n",
       "      <td>NaN</td>\n",
       "      <td>5.643956e+05</td>\n",
       "      <td>0.255067</td>\n",
       "      <td>18.446292</td>\n",
       "      <td>0.458992</td>\n",
       "      <td>39.358921</td>\n",
       "      <td>1.876012</td>\n",
       "    </tr>\n",
       "    <tr>\n",
       "      <th>min</th>\n",
       "      <td>1.000000</td>\n",
       "      <td>NaN</td>\n",
       "      <td>2.099862e+05</td>\n",
       "      <td>0.000000</td>\n",
       "      <td>-2.060000</td>\n",
       "      <td>2.472000</td>\n",
       "      <td>126.064000</td>\n",
       "      <td>3.879000</td>\n",
       "    </tr>\n",
       "    <tr>\n",
       "      <th>25%</th>\n",
       "      <td>12.000000</td>\n",
       "      <td>NaN</td>\n",
       "      <td>5.531677e+05</td>\n",
       "      <td>0.000000</td>\n",
       "      <td>47.445000</td>\n",
       "      <td>2.933000</td>\n",
       "      <td>131.735000</td>\n",
       "      <td>6.891000</td>\n",
       "    </tr>\n",
       "    <tr>\n",
       "      <th>50%</th>\n",
       "      <td>23.000000</td>\n",
       "      <td>NaN</td>\n",
       "      <td>9.608457e+05</td>\n",
       "      <td>0.000000</td>\n",
       "      <td>62.675000</td>\n",
       "      <td>3.445000</td>\n",
       "      <td>182.616521</td>\n",
       "      <td>7.874000</td>\n",
       "    </tr>\n",
       "    <tr>\n",
       "      <th>75%</th>\n",
       "      <td>34.000000</td>\n",
       "      <td>NaN</td>\n",
       "      <td>1.420282e+06</td>\n",
       "      <td>0.000000</td>\n",
       "      <td>74.945000</td>\n",
       "      <td>3.735000</td>\n",
       "      <td>212.745096</td>\n",
       "      <td>8.622000</td>\n",
       "    </tr>\n",
       "    <tr>\n",
       "      <th>max</th>\n",
       "      <td>45.000000</td>\n",
       "      <td>NaN</td>\n",
       "      <td>3.818686e+06</td>\n",
       "      <td>1.000000</td>\n",
       "      <td>100.140000</td>\n",
       "      <td>4.468000</td>\n",
       "      <td>227.232807</td>\n",
       "      <td>14.313000</td>\n",
       "    </tr>\n",
       "  </tbody>\n",
       "</table>\n",
       "</div>"
      ],
      "text/plain": [
       "              Store        Date  Weekly_Sales  Holiday_Flag  Temperature  \\\n",
       "count   6434.000000        6434  6.434000e+03   6434.000000  6434.000000   \n",
       "unique          NaN         143           NaN           NaN          NaN   \n",
       "top             NaN  05-02-2010           NaN           NaN          NaN   \n",
       "freq            NaN          45           NaN           NaN          NaN   \n",
       "mean      22.996581         NaN  1.047016e+06      0.069941    60.664434   \n",
       "std       12.986295         NaN  5.643956e+05      0.255067    18.446292   \n",
       "min        1.000000         NaN  2.099862e+05      0.000000    -2.060000   \n",
       "25%       12.000000         NaN  5.531677e+05      0.000000    47.445000   \n",
       "50%       23.000000         NaN  9.608457e+05      0.000000    62.675000   \n",
       "75%       34.000000         NaN  1.420282e+06      0.000000    74.945000   \n",
       "max       45.000000         NaN  3.818686e+06      1.000000   100.140000   \n",
       "\n",
       "         Fuel_Price          CPI  Unemployment  \n",
       "count   6434.000000  6434.000000   6434.000000  \n",
       "unique          NaN          NaN           NaN  \n",
       "top             NaN          NaN           NaN  \n",
       "freq            NaN          NaN           NaN  \n",
       "mean       3.358512   171.575168      7.999047  \n",
       "std        0.458992    39.358921      1.876012  \n",
       "min        2.472000   126.064000      3.879000  \n",
       "25%        2.933000   131.735000      6.891000  \n",
       "50%        3.445000   182.616521      7.874000  \n",
       "75%        3.735000   212.745096      8.622000  \n",
       "max        4.468000   227.232807     14.313000  "
      ]
     },
     "execution_count": 57,
     "metadata": {},
     "output_type": "execute_result"
    }
   ],
   "source": [
    "dataset.describe(include='all')"
   ]
  },
  {
   "cell_type": "code",
   "execution_count": 60,
   "metadata": {},
   "outputs": [],
   "source": [
    "stores= 6434 \n"
   ]
  },
  {
   "cell_type": "code",
   "execution_count": 130,
   "metadata": {},
   "outputs": [
    {
     "data": {
      "text/plain": [
       "1047016"
      ]
     },
     "execution_count": 130,
     "metadata": {},
     "output_type": "execute_result"
    }
   ],
   "source": [
    "weeklysale = int(1.047016e+06)\n",
    "#weeklysale.round(weeklysale,1)\n",
    "weeklysale"
   ]
  },
  {
   "cell_type": "code",
   "execution_count": 134,
   "metadata": {},
   "outputs": [
    {
     "data": {
      "text/plain": [
       "3818686"
      ]
     },
     "execution_count": 134,
     "metadata": {},
     "output_type": "execute_result"
    }
   ],
   "source": [
    "ventaalta=int(3.818686e+06)\n",
    "ventaalta"
   ]
  },
  {
   "cell_type": "code",
   "execution_count": 135,
   "metadata": {},
   "outputs": [
    {
     "data": {
      "text/plain": [
       "209986"
      ]
     },
     "execution_count": 135,
     "metadata": {},
     "output_type": "execute_result"
    }
   ],
   "source": [
    "ventabaja=int(2.099862e+05)\n",
    "ventabaja"
   ]
  },
  {
   "cell_type": "code",
   "execution_count": 137,
   "metadata": {},
   "outputs": [],
   "source": [
    "#fig = px.histogram(df, x=\"streams\",\n",
    "                  # labels = {\"streams\": \"Reproducciones\"},\n",
    "                  # histnorm='probability density',\n",
    "                  # nbins = 100,\n",
    "                 #  opacity=0.6)\n",
    "\n",
    "#fig.update_traces(marker_color = \"darkorange\")\n",
    "#fig.show()"
   ]
  },
  {
   "cell_type": "code",
   "execution_count": 133,
   "metadata": {},
   "outputs": [
    {
     "ename": "ValueError",
     "evalue": "x and y must have same first dimension, but have shapes (5,) and (4,)",
     "output_type": "error",
     "traceback": [
      "\u001b[1;31m---------------------------------------------------------------------------\u001b[0m",
      "\u001b[1;31mValueError\u001b[0m                                Traceback (most recent call last)",
      "\u001b[1;32m~\\AppData\\Local\\Temp/ipykernel_4996/4222043251.py\u001b[0m in \u001b[0;36m<module>\u001b[1;34m\u001b[0m\n\u001b[0;32m      1\u001b[0m \u001b[0mmuestra\u001b[0m\u001b[1;33m=\u001b[0m\u001b[1;33m[\u001b[0m\u001b[0mstores\u001b[0m\u001b[1;33m,\u001b[0m\u001b[0mweeklysale\u001b[0m\u001b[1;33m,\u001b[0m\u001b[0mventaalta\u001b[0m\u001b[1;33m,\u001b[0m\u001b[0mventabaja\u001b[0m\u001b[1;33m]\u001b[0m\u001b[1;33m\u001b[0m\u001b[1;33m\u001b[0m\u001b[0m\n\u001b[0;32m      2\u001b[0m \u001b[0mx\u001b[0m\u001b[1;33m=\u001b[0m\u001b[1;33m[\u001b[0m\u001b[1;36m0\u001b[0m\u001b[1;33m,\u001b[0m\u001b[1;36m1\u001b[0m\u001b[1;33m,\u001b[0m\u001b[1;36m2\u001b[0m\u001b[1;33m,\u001b[0m\u001b[1;36m3\u001b[0m\u001b[1;33m,\u001b[0m\u001b[1;36m4\u001b[0m\u001b[1;33m]\u001b[0m\u001b[1;33m\u001b[0m\u001b[1;33m\u001b[0m\u001b[0m\n\u001b[1;32m----> 3\u001b[1;33m \u001b[0mplt\u001b[0m\u001b[1;33m.\u001b[0m\u001b[0mplot\u001b[0m\u001b[1;33m(\u001b[0m\u001b[0mx\u001b[0m\u001b[1;33m,\u001b[0m \u001b[0mmuestra\u001b[0m\u001b[1;33m,\u001b[0m \u001b[0mcolor\u001b[0m\u001b[1;33m=\u001b[0m\u001b[1;34m'blue'\u001b[0m\u001b[1;33m,\u001b[0m \u001b[0mmarker\u001b[0m\u001b[1;33m=\u001b[0m\u001b[1;34m'o'\u001b[0m\u001b[1;33m,\u001b[0m \u001b[0mlinestyle\u001b[0m\u001b[1;33m=\u001b[0m\u001b[1;34m'--'\u001b[0m\u001b[1;33m,\u001b[0m \u001b[0mlinewidth\u001b[0m\u001b[1;33m=\u001b[0m\u001b[1;36m2\u001b[0m\u001b[1;33m,\u001b[0m \u001b[0mmarkersize\u001b[0m\u001b[1;33m=\u001b[0m\u001b[1;36m8\u001b[0m\u001b[1;33m)\u001b[0m\u001b[1;33m\u001b[0m\u001b[1;33m\u001b[0m\u001b[0m\n\u001b[0m\u001b[0;32m      4\u001b[0m \u001b[0mplt\u001b[0m\u001b[1;33m.\u001b[0m\u001b[0mxlabel\u001b[0m\u001b[1;33m(\u001b[0m\u001b[1;34m'Eje r'\u001b[0m\u001b[1;33m)\u001b[0m\u001b[1;33m\u001b[0m\u001b[1;33m\u001b[0m\u001b[0m\n\u001b[0;32m      5\u001b[0m \u001b[0mplt\u001b[0m\u001b[1;33m.\u001b[0m\u001b[0mylabel\u001b[0m\u001b[1;33m(\u001b[0m\u001b[1;34m'Eje xn1'\u001b[0m\u001b[1;33m)\u001b[0m\u001b[1;33m\u001b[0m\u001b[1;33m\u001b[0m\u001b[0m\n",
      "\u001b[1;32m~\\anaconda3\\lib\\site-packages\\matplotlib\\pyplot.py\u001b[0m in \u001b[0;36mplot\u001b[1;34m(scalex, scaley, data, *args, **kwargs)\u001b[0m\n\u001b[0;32m   3017\u001b[0m \u001b[1;33m@\u001b[0m\u001b[0m_copy_docstring_and_deprecators\u001b[0m\u001b[1;33m(\u001b[0m\u001b[0mAxes\u001b[0m\u001b[1;33m.\u001b[0m\u001b[0mplot\u001b[0m\u001b[1;33m)\u001b[0m\u001b[1;33m\u001b[0m\u001b[1;33m\u001b[0m\u001b[0m\n\u001b[0;32m   3018\u001b[0m \u001b[1;32mdef\u001b[0m \u001b[0mplot\u001b[0m\u001b[1;33m(\u001b[0m\u001b[1;33m*\u001b[0m\u001b[0margs\u001b[0m\u001b[1;33m,\u001b[0m \u001b[0mscalex\u001b[0m\u001b[1;33m=\u001b[0m\u001b[1;32mTrue\u001b[0m\u001b[1;33m,\u001b[0m \u001b[0mscaley\u001b[0m\u001b[1;33m=\u001b[0m\u001b[1;32mTrue\u001b[0m\u001b[1;33m,\u001b[0m \u001b[0mdata\u001b[0m\u001b[1;33m=\u001b[0m\u001b[1;32mNone\u001b[0m\u001b[1;33m,\u001b[0m \u001b[1;33m**\u001b[0m\u001b[0mkwargs\u001b[0m\u001b[1;33m)\u001b[0m\u001b[1;33m:\u001b[0m\u001b[1;33m\u001b[0m\u001b[1;33m\u001b[0m\u001b[0m\n\u001b[1;32m-> 3019\u001b[1;33m     return gca().plot(\n\u001b[0m\u001b[0;32m   3020\u001b[0m         \u001b[1;33m*\u001b[0m\u001b[0margs\u001b[0m\u001b[1;33m,\u001b[0m \u001b[0mscalex\u001b[0m\u001b[1;33m=\u001b[0m\u001b[0mscalex\u001b[0m\u001b[1;33m,\u001b[0m \u001b[0mscaley\u001b[0m\u001b[1;33m=\u001b[0m\u001b[0mscaley\u001b[0m\u001b[1;33m,\u001b[0m\u001b[1;33m\u001b[0m\u001b[1;33m\u001b[0m\u001b[0m\n\u001b[0;32m   3021\u001b[0m         **({\"data\": data} if data is not None else {}), **kwargs)\n",
      "\u001b[1;32m~\\anaconda3\\lib\\site-packages\\matplotlib\\axes\\_axes.py\u001b[0m in \u001b[0;36mplot\u001b[1;34m(self, scalex, scaley, data, *args, **kwargs)\u001b[0m\n\u001b[0;32m   1603\u001b[0m         \"\"\"\n\u001b[0;32m   1604\u001b[0m         \u001b[0mkwargs\u001b[0m \u001b[1;33m=\u001b[0m \u001b[0mcbook\u001b[0m\u001b[1;33m.\u001b[0m\u001b[0mnormalize_kwargs\u001b[0m\u001b[1;33m(\u001b[0m\u001b[0mkwargs\u001b[0m\u001b[1;33m,\u001b[0m \u001b[0mmlines\u001b[0m\u001b[1;33m.\u001b[0m\u001b[0mLine2D\u001b[0m\u001b[1;33m)\u001b[0m\u001b[1;33m\u001b[0m\u001b[1;33m\u001b[0m\u001b[0m\n\u001b[1;32m-> 1605\u001b[1;33m         \u001b[0mlines\u001b[0m \u001b[1;33m=\u001b[0m \u001b[1;33m[\u001b[0m\u001b[1;33m*\u001b[0m\u001b[0mself\u001b[0m\u001b[1;33m.\u001b[0m\u001b[0m_get_lines\u001b[0m\u001b[1;33m(\u001b[0m\u001b[1;33m*\u001b[0m\u001b[0margs\u001b[0m\u001b[1;33m,\u001b[0m \u001b[0mdata\u001b[0m\u001b[1;33m=\u001b[0m\u001b[0mdata\u001b[0m\u001b[1;33m,\u001b[0m \u001b[1;33m**\u001b[0m\u001b[0mkwargs\u001b[0m\u001b[1;33m)\u001b[0m\u001b[1;33m]\u001b[0m\u001b[1;33m\u001b[0m\u001b[1;33m\u001b[0m\u001b[0m\n\u001b[0m\u001b[0;32m   1606\u001b[0m         \u001b[1;32mfor\u001b[0m \u001b[0mline\u001b[0m \u001b[1;32min\u001b[0m \u001b[0mlines\u001b[0m\u001b[1;33m:\u001b[0m\u001b[1;33m\u001b[0m\u001b[1;33m\u001b[0m\u001b[0m\n\u001b[0;32m   1607\u001b[0m             \u001b[0mself\u001b[0m\u001b[1;33m.\u001b[0m\u001b[0madd_line\u001b[0m\u001b[1;33m(\u001b[0m\u001b[0mline\u001b[0m\u001b[1;33m)\u001b[0m\u001b[1;33m\u001b[0m\u001b[1;33m\u001b[0m\u001b[0m\n",
      "\u001b[1;32m~\\anaconda3\\lib\\site-packages\\matplotlib\\axes\\_base.py\u001b[0m in \u001b[0;36m__call__\u001b[1;34m(self, data, *args, **kwargs)\u001b[0m\n\u001b[0;32m    313\u001b[0m                 \u001b[0mthis\u001b[0m \u001b[1;33m+=\u001b[0m \u001b[0margs\u001b[0m\u001b[1;33m[\u001b[0m\u001b[1;36m0\u001b[0m\u001b[1;33m]\u001b[0m\u001b[1;33m,\u001b[0m\u001b[1;33m\u001b[0m\u001b[1;33m\u001b[0m\u001b[0m\n\u001b[0;32m    314\u001b[0m                 \u001b[0margs\u001b[0m \u001b[1;33m=\u001b[0m \u001b[0margs\u001b[0m\u001b[1;33m[\u001b[0m\u001b[1;36m1\u001b[0m\u001b[1;33m:\u001b[0m\u001b[1;33m]\u001b[0m\u001b[1;33m\u001b[0m\u001b[1;33m\u001b[0m\u001b[0m\n\u001b[1;32m--> 315\u001b[1;33m             \u001b[1;32myield\u001b[0m \u001b[1;32mfrom\u001b[0m \u001b[0mself\u001b[0m\u001b[1;33m.\u001b[0m\u001b[0m_plot_args\u001b[0m\u001b[1;33m(\u001b[0m\u001b[0mthis\u001b[0m\u001b[1;33m,\u001b[0m \u001b[0mkwargs\u001b[0m\u001b[1;33m)\u001b[0m\u001b[1;33m\u001b[0m\u001b[1;33m\u001b[0m\u001b[0m\n\u001b[0m\u001b[0;32m    316\u001b[0m \u001b[1;33m\u001b[0m\u001b[0m\n\u001b[0;32m    317\u001b[0m     \u001b[1;32mdef\u001b[0m \u001b[0mget_next_color\u001b[0m\u001b[1;33m(\u001b[0m\u001b[0mself\u001b[0m\u001b[1;33m)\u001b[0m\u001b[1;33m:\u001b[0m\u001b[1;33m\u001b[0m\u001b[1;33m\u001b[0m\u001b[0m\n",
      "\u001b[1;32m~\\anaconda3\\lib\\site-packages\\matplotlib\\axes\\_base.py\u001b[0m in \u001b[0;36m_plot_args\u001b[1;34m(self, tup, kwargs, return_kwargs)\u001b[0m\n\u001b[0;32m    499\u001b[0m \u001b[1;33m\u001b[0m\u001b[0m\n\u001b[0;32m    500\u001b[0m         \u001b[1;32mif\u001b[0m \u001b[0mx\u001b[0m\u001b[1;33m.\u001b[0m\u001b[0mshape\u001b[0m\u001b[1;33m[\u001b[0m\u001b[1;36m0\u001b[0m\u001b[1;33m]\u001b[0m \u001b[1;33m!=\u001b[0m \u001b[0my\u001b[0m\u001b[1;33m.\u001b[0m\u001b[0mshape\u001b[0m\u001b[1;33m[\u001b[0m\u001b[1;36m0\u001b[0m\u001b[1;33m]\u001b[0m\u001b[1;33m:\u001b[0m\u001b[1;33m\u001b[0m\u001b[1;33m\u001b[0m\u001b[0m\n\u001b[1;32m--> 501\u001b[1;33m             raise ValueError(f\"x and y must have same first dimension, but \"\n\u001b[0m\u001b[0;32m    502\u001b[0m                              f\"have shapes {x.shape} and {y.shape}\")\n\u001b[0;32m    503\u001b[0m         \u001b[1;32mif\u001b[0m \u001b[0mx\u001b[0m\u001b[1;33m.\u001b[0m\u001b[0mndim\u001b[0m \u001b[1;33m>\u001b[0m \u001b[1;36m2\u001b[0m \u001b[1;32mor\u001b[0m \u001b[0my\u001b[0m\u001b[1;33m.\u001b[0m\u001b[0mndim\u001b[0m \u001b[1;33m>\u001b[0m \u001b[1;36m2\u001b[0m\u001b[1;33m:\u001b[0m\u001b[1;33m\u001b[0m\u001b[1;33m\u001b[0m\u001b[0m\n",
      "\u001b[1;31mValueError\u001b[0m: x and y must have same first dimension, but have shapes (5,) and (4,)"
     ]
    },
    {
     "data": {
      "image/png": "[encoded data removed]",
      "text/plain": [
       "<Figure size 432x288 with 1 Axes>"
      ]
     },
     "metadata": {
      "needs_background": "light"
     },
     "output_type": "display_data"
    }
   ],
   "source": [
    "muestra=[stores,weeklysale,ventaalta,ventabaja]\n",
    "x=[0,1,2,3,4]\n",
    "plt.plot(x, muestra, color='blue', marker='o', linestyle='--', linewidth=2, markersize=8)\n",
    "plt.xlabel('Eje y')\n",
    "plt.ylabel('Eje x')\n",
    "plt.grid(True)\n",
    "plt.show()"
   ]
  },
  {
   "cell_type": "markdown",
   "metadata": {
    "id": "Br4zIJh_L47b"
   },
   "source": [
    "c) Genera un gráfico de líneas que muestre la evolución de las ventas semanales $Weekly Sales$ a lo largo del tiempo para la tienda con más ventas totales. ¿Observas algún patrón estacional o tendencia? (1 puntos)"
   ]
  },
  {
   "cell_type": "code",
   "execution_count": 75,
   "metadata": {
    "id": "5idHf3MKL7Pw"
   },
   "outputs": [],
   "source": [
    "y=dataset['Weekly_Sales']\n",
    "x=dataset['Date']"
   ]
  },
  {
   "cell_type": "code",
   "execution_count": 77,
   "metadata": {},
   "outputs": [
    {
     "data": {
      "image/png": "[encoded data removed]",
      "text/plain": [
       "<Figure size 432x288 with 1 Axes>"
      ]
     },
     "metadata": {
      "needs_background": "light"
     },
     "output_type": "display_data"
    }
   ],
   "source": [
    "plt.plot(x, y, color='blue', marker='o', linestyle='--', linewidth=2, markersize=8)\n",
    "plt.xlabel('Date')\n",
    "plt.ylabel('Weekly_Sales')\n",
    "plt.grid(True)\n",
    "plt.show()"
   ]
  },
  {
   "cell_type": "markdown",
   "metadata": {},
   "source": [
    "Hay dos altos picos de compras."
   ]
  },
  {
   "cell_type": "markdown",
   "metadata": {
    "id": "zS6fasRVMXEx"
   },
   "source": [
    "# Ejrcicio 3: Análisis de Factores Externos (2 puntos)\n",
    "\n",
    "a) Explora la relación entre el precio de combustible $Fuel Price$, la tasa de desempleo $Unemployment$ y las ventas semanales $Weekly Sales$. ¿Existe alguna correlación significativa? Genera dos gráficos de dispersión (scatter plot) para ilustrarlo. (1 puntos)"
   ]
  },
  {
   "cell_type": "code",
   "execution_count": 84,
   "metadata": {
    "id": "lWrImgylMnTH"
   },
   "outputs": [
    {
     "name": "stdout",
     "output_type": "stream",
     "text": [
      "Variance explanation R^2 = 0.0\n",
      "Coefficients: \n",
      " [-9.13288161e-03  3.47583846e-10]\n",
      "Mean squared error: 0.21\n",
      "Coefficient of determination: 0.00\n"
     ]
    },
    {
     "data": {
      "image/png": "[encoded data removed]",
      "text/plain": [
       "<Figure size 432x288 with 1 Axes>"
      ]
     },
     "metadata": {
      "needs_background": "light"
     },
     "output_type": "display_data"
    }
   ],
   "source": [
    "y= dataset['Fuel_Price']\n",
    "X=dataset[['Unemployment','Weekly_Sales']]\n",
    "X_train, X_test, y_train, y_test = train_test_split(X, y, test_size = 0.3, random_state = 123)\n",
    "\n",
    "regr = LinearRegression().fit(X_train, y_train)\n",
    "print(\"Variance explanation R^2 = {}\".format(round(regr.score(X, y),2)))\n",
    "\n",
    "# Make predictions using the testing set\n",
    "y_pred = regr.predict(X_test)\n",
    "\n",
    "# The coefficients\n",
    "print(\"Coefficients: \\n\", regr.coef_)\n",
    "# The mean squared error\n",
    "print(\"Mean squared error: %.2f\" % mean_squared_error(y_test, y_pred))\n",
    "# The coefficient of determination: 1 is perfect prediction\n",
    "print(\"Coefficient of determination: %.2f\" % r2_score(y_test, y_pred))\n",
    "\n",
    "# Plot outputs\n",
    "plt.scatter(y_test, y_pred, color=\"black\")\n",
    "# plt.plot(X_test, y_pred, color=\"blue\", linewidth=3)\n",
    "\n",
    "\n",
    "plt.show()"
   ]
  },
  {
   "cell_type": "markdown",
   "metadata": {},
   "source": [
    "No existe ningun tipo de correlación linear"
   ]
  },
  {
   "cell_type": "markdown",
   "metadata": {
    "id": "tNsV143ZM_e5"
   },
   "source": [
    "c) Compara las ventas promedio de las semanas festivas $Holiday Flag = 1$ con las semanas no festivas $Holiday Flag = 0$. ¿Cuál es la diferencia promedio de ventas entre estos dos tipos de semanas? ¿Existe una diferencia estdísticamente significativa? (1 puntos)\n"
   ]
  },
  {
   "cell_type": "code",
   "execution_count": 86,
   "metadata": {
    "id": "k6PIqCkxNPIC"
   },
   "outputs": [
    {
     "name": "stdout",
     "output_type": "stream",
     "text": [
      "   Store        Date  Weekly_Sales  Holiday_Flag  Temperature  Fuel_Price  \\\n",
      "0      1  05-02-2010    1643690.90             0        42.31       2.572   \n",
      "1      1  12-02-2010    1641957.44             1        38.51       2.548   \n",
      "2      1  19-02-2010    1611968.17             0        39.93       2.514   \n",
      "3      1  26-02-2010    1409727.59             0        46.63       2.561   \n",
      "4      1  05-03-2010    1554806.68             0        46.50       2.625   \n",
      "\n",
      "          CPI  Unemployment  \n",
      "0  211.096358         8.106  \n",
      "1  211.242170         8.106  \n",
      "2  211.289143         8.106  \n",
      "3  211.319643         8.106  \n",
      "4  211.350143         8.106  \n"
     ]
    }
   ],
   "source": [
    "print(dataset.head())"
   ]
  },
  {
   "cell_type": "code",
   "execution_count": 94,
   "metadata": {},
   "outputs": [
    {
     "name": "stdout",
     "output_type": "stream",
     "text": [
      "              Store        Date  Weekly_Sales  Holiday_Flag  Temperature  \\\n",
      "count   6434.000000        6434  6.434000e+03   6434.000000  6434.000000   \n",
      "unique          NaN         143           NaN           NaN          NaN   \n",
      "top             NaN  05-02-2010           NaN           NaN          NaN   \n",
      "freq            NaN          45           NaN           NaN          NaN   \n",
      "mean      22.996581         NaN  1.047016e+06      0.069941    60.664434   \n",
      "std       12.986295         NaN  5.643956e+05      0.255067    18.446292   \n",
      "min        1.000000         NaN  2.099862e+05      0.000000    -2.060000   \n",
      "25%       12.000000         NaN  5.531677e+05      0.000000    47.445000   \n",
      "50%       23.000000         NaN  9.608457e+05      0.000000    62.675000   \n",
      "75%       34.000000         NaN  1.420282e+06      0.000000    74.945000   \n",
      "max       45.000000         NaN  3.818686e+06      1.000000   100.140000   \n",
      "\n",
      "         Fuel_Price          CPI  Unemployment    hf1   hf0  \n",
      "count   6434.000000  6434.000000   6434.000000   6434  6434  \n",
      "unique          NaN          NaN           NaN      2     2  \n",
      "top             NaN          NaN           NaN  False  True  \n",
      "freq            NaN          NaN           NaN   5984  5984  \n",
      "mean       3.358512   171.575168      7.999047    NaN   NaN  \n",
      "std        0.458992    39.358921      1.876012    NaN   NaN  \n",
      "min        2.472000   126.064000      3.879000    NaN   NaN  \n",
      "25%        2.933000   131.735000      6.891000    NaN   NaN  \n",
      "50%        3.445000   182.616521      7.874000    NaN   NaN  \n",
      "75%        3.735000   212.745096      8.622000    NaN   NaN  \n",
      "max        4.468000   227.232807     14.313000    NaN   NaN  \n"
     ]
    }
   ],
   "source": [
    "dataset['hf1']=dataset['Holiday_Flag']==1\n",
    "dataset['hf0']=dataset['Holiday_Flag']==0\n",
    "print(dataset.describe(include='all'))"
   ]
  },
  {
   "cell_type": "code",
   "execution_count": null,
   "metadata": {},
   "outputs": [],
   "source": []
  },
  {
   "cell_type": "markdown",
   "metadata": {
    "id": "RBs_xZCbNV2a"
   },
   "source": [
    "# Ejercicio 4: Modelado predictivo (2 puntos)\n",
    "\n",
    "a) Encuentra el mejor modelo de regresión lineal para predecir las ventas semanales $Weekly Sales$ en función de las variables disponibles. Prueba múltiples combinaciones de variables. (1.5 puntos)\n"
   ]
  },
  {
   "cell_type": "code",
   "execution_count": 126,
   "metadata": {},
   "outputs": [
    {
     "name": "stdout",
     "output_type": "stream",
     "text": [
      "Variance explanation R^2 = 0.0\n",
      "Coefficients: \n",
      " [-9.13288161e-03  3.47583846e-10]\n",
      "Mean squared error: 0.21\n",
      "Coefficient of determination: 0.00\n"
     ]
    },
    {
     "data": {
      "image/png": "[encoded data removed]",
      "text/plain": [
       "<Figure size 432x288 with 1 Axes>"
      ]
     },
     "metadata": {
      "needs_background": "light"
     },
     "output_type": "display_data"
    }
   ],
   "source": [
    "y= dataset['Fuel_Price']\n",
    "X=dataset[['Unemployment','Weekly_Sales']]\n",
    "X_train, X_test, y_train, y_test = train_test_split(X, y, test_size = 0.3, random_state = 123)\n",
    "\n",
    "regr = LinearRegression().fit(X_train, y_train)\n",
    "print(\"Variance explanation R^2 = {}\".format(round(regr.score(X, y),2)))\n",
    "\n",
    "# Make predictions using the testing set\n",
    "y_pred = regr.predict(X_test)\n",
    "\n",
    "# The coefficients\n",
    "print(\"Coefficients: \\n\", regr.coef_)\n",
    "# The mean squared error\n",
    "print(\"Mean squared error: %.2f\" % mean_squared_error(y_test, y_pred))\n",
    "# The coefficient of determination: 1 is perfect prediction\n",
    "print(\"Coefficient of determination: %.2f\" % r2_score(y_test, y_pred))\n",
    "\n",
    "# Plot outputs\n",
    "plt.scatter(y_test, y_pred, color=\"black\")\n",
    "# plt.plot(X_test, y_pred, color=\"blue\", linewidth=3)\n",
    "\n",
    "\n",
    "plt.show()"
   ]
  },
  {
   "cell_type": "code",
   "execution_count": 107,
   "metadata": {},
   "outputs": [
    {
     "name": "stdout",
     "output_type": "stream",
     "text": [
      "Variance explanation R^2 = 0.14\n",
      "Coefficients: \n",
      " [-15342.1547164    -991.7442068    8744.85875477  -2311.75041965\n",
      " -21183.38633471]\n",
      "Mean squared error: 267587632687.32\n",
      "Coefficient of determination: 0.15\n"
     ]
    },
    {
     "data": {
      "image/png": "[encoded data removed]",
      "text/plain": [
       "<Figure size 432x288 with 1 Axes>"
      ]
     },
     "metadata": {
      "needs_background": "light"
     },
     "output_type": "display_data"
    }
   ],
   "source": [
    "X = dataset[['Store','Temperature','Fuel_Price','CPI','Unemployment']]#he puesto aquellas que fuesen continuas\n",
    "y = dataset['Weekly_Sales']\n",
    "X_train, X_test, y_train, y_test = train_test_split(X, y, test_size = 0.2, random_state = 123)\n",
    "regr = LinearRegression().fit(X_train, y_train)\n",
    "print(\"Variance explanation R^2 = {}\".format(round(regr.score(X, y),2)))\n",
    "# Make predictions using the testing set\n",
    "y_pred = regr.predict(X_test)\n",
    "\n",
    "# The coefficients\n",
    "print(\"Coefficients: \\n\", regr.coef_)\n",
    "# The mean squared error\n",
    "print(\"Mean squared error: %.2f\" % mean_squared_error(y_test, y_pred))\n",
    "# The coefficient of determination: 1 is perfect prediction\n",
    "print(\"Coefficient of determination: %.2f\" % r2_score(y_test, y_pred))\n",
    "\n",
    "# Plot outputs\n",
    "plt.scatter(y_test, y_pred, color=\"black\")\n",
    "# plt.plot(X_test, y_pred, color=\"blue\", linewidth=3)\n",
    "\n",
    "\n",
    "plt.show()"
   ]
  },
  {
   "cell_type": "code",
   "execution_count": 108,
   "metadata": {
    "id": "NFpU2OaWNrL7"
   },
   "outputs": [
    {
     "name": "stdout",
     "output_type": "stream",
     "text": [
      "Variance explanation R^2 = 0.02\n",
      "Coefficients: \n",
      " [  -795.93177875  -2605.39229347  -1571.49296957 -40052.82162906]\n",
      "Mean squared error: 306151659053.78\n",
      "Coefficient of determination: 0.03\n"
     ]
    },
    {
     "data": {
      "image/png": "[encoded data removed]",
      "text/plain": [
       "<Figure size 432x288 with 1 Axes>"
      ]
     },
     "metadata": {
      "needs_background": "light"
     },
     "output_type": "display_data"
    }
   ],
   "source": [
    "#Quito Store\n",
    "X = dataset[['Temperature','Fuel_Price','CPI','Unemployment']]#he puesto aquellas que fuesen continuas\n",
    "y = dataset['Weekly_Sales']\n",
    "X_train, X_test, y_train, y_test = train_test_split(X, y, test_size = 0.2, random_state = 123)\n",
    "regr = LinearRegression().fit(X_train, y_train)\n",
    "print(\"Variance explanation R^2 = {}\".format(round(regr.score(X, y),2)))\n",
    "# Make predictions using the testing set\n",
    "y_pred = regr.predict(X_test)\n",
    "\n",
    "# The coefficients\n",
    "print(\"Coefficients: \\n\", regr.coef_)\n",
    "# The mean squared error\n",
    "print(\"Mean squared error: %.2f\" % mean_squared_error(y_test, y_pred))\n",
    "# The coefficient of determination: 1 is perfect prediction\n",
    "print(\"Coefficient of determination: %.2f\" % r2_score(y_test, y_pred))\n",
    "\n",
    "# Plot outputs\n",
    "plt.scatter(y_test, y_pred, color=\"black\")\n",
    "# plt.plot(X_test, y_pred, color=\"blue\", linewidth=3)\n",
    "\n",
    "\n",
    "plt.show()"
   ]
  },
  {
   "cell_type": "code",
   "execution_count": 110,
   "metadata": {},
   "outputs": [],
   "source": [
    "#No tiene sentido quitar store"
   ]
  },
  {
   "cell_type": "code",
   "execution_count": 109,
   "metadata": {},
   "outputs": [
    {
     "name": "stdout",
     "output_type": "stream",
     "text": [
      "Variance explanation R^2 = 0.14\n",
      "Coefficients: \n",
      " [-15316.97422542    526.00741649  -2438.40511309 -23066.57892544]\n",
      "Mean squared error: 268312408590.64\n",
      "Coefficient of determination: 0.15\n"
     ]
    },
    {
     "data": {
      "image/png": "[encoded data removed]",
      "text/plain": [
       "<Figure size 432x288 with 1 Axes>"
      ]
     },
     "metadata": {
      "needs_background": "light"
     },
     "output_type": "display_data"
    }
   ],
   "source": [
    "X = dataset[['Store','Fuel_Price','CPI','Unemployment']]#he puesto aquellas que fuesen continuas\n",
    "y = dataset['Weekly_Sales']\n",
    "X_train, X_test, y_train, y_test = train_test_split(X, y, test_size = 0.2, random_state = 123)\n",
    "regr = LinearRegression().fit(X_train, y_train)\n",
    "print(\"Variance explanation R^2 = {}\".format(round(regr.score(X, y),2)))\n",
    "# Make predictions using the testing set\n",
    "y_pred = regr.predict(X_test)\n",
    "\n",
    "# The coefficients\n",
    "print(\"Coefficients: \\n\", regr.coef_)\n",
    "# The mean squared error\n",
    "print(\"Mean squared error: %.2f\" % mean_squared_error(y_test, y_pred))\n",
    "# The coefficient of determination: 1 is perfect prediction\n",
    "print(\"Coefficient of determination: %.2f\" % r2_score(y_test, y_pred))\n",
    "\n",
    "# Plot outputs\n",
    "plt.scatter(y_test, y_pred, color=\"black\")\n",
    "# plt.plot(X_test, y_pred, color=\"blue\", linewidth=3)\n",
    "\n",
    "\n",
    "plt.show()"
   ]
  },
  {
   "cell_type": "code",
   "execution_count": 111,
   "metadata": {},
   "outputs": [],
   "source": [
    "#Temperature es muy posible que haya que quitarla"
   ]
  },
  {
   "cell_type": "code",
   "execution_count": 112,
   "metadata": {},
   "outputs": [
    {
     "name": "stdout",
     "output_type": "stream",
     "text": [
      "Variance explanation R^2 = 0.14\n",
      "Coefficients: \n",
      " [-15334.12130706   -946.50847577  -2336.31321207 -21477.91984302]\n",
      "Mean squared error: 267582355423.86\n",
      "Coefficient of determination: 0.15\n"
     ]
    },
    {
     "data": {
      "image/png": "[encoded data removed]",
      "text/plain": [
       "<Figure size 432x288 with 1 Axes>"
      ]
     },
     "metadata": {
      "needs_background": "light"
     },
     "output_type": "display_data"
    }
   ],
   "source": [
    "X = dataset[['Store','Temperature','CPI','Unemployment']]#he puesto aquellas que fuesen continuas\n",
    "y = dataset['Weekly_Sales']\n",
    "X_train, X_test, y_train, y_test = train_test_split(X, y, test_size = 0.2, random_state = 123)\n",
    "regr = LinearRegression().fit(X_train, y_train)\n",
    "print(\"Variance explanation R^2 = {}\".format(round(regr.score(X, y),2)))\n",
    "# Make predictions using the testing set\n",
    "y_pred = regr.predict(X_test)\n",
    "\n",
    "# The coefficients\n",
    "print(\"Coefficients: \\n\", regr.coef_)\n",
    "# The mean squared error\n",
    "print(\"Mean squared error: %.2f\" % mean_squared_error(y_test, y_pred))\n",
    "# The coefficient of determination: 1 is perfect prediction\n",
    "print(\"Coefficient of determination: %.2f\" % r2_score(y_test, y_pred))\n",
    "\n",
    "# Plot outputs\n",
    "plt.scatter(y_test, y_pred, color=\"black\")\n",
    "# plt.plot(X_test, y_pred, color=\"blue\", linewidth=3)\n",
    "\n",
    "\n",
    "plt.show()"
   ]
  },
  {
   "cell_type": "code",
   "execution_count": 113,
   "metadata": {},
   "outputs": [],
   "source": [
    "#Fuel_price también"
   ]
  },
  {
   "cell_type": "code",
   "execution_count": 114,
   "metadata": {},
   "outputs": [
    {
     "name": "stdout",
     "output_type": "stream",
     "text": [
      "Variance explanation R^2 = 0.14\n",
      "Coefficients: \n",
      " [-15334.12130706   -946.50847577  -2336.31321207 -21477.91984302]\n",
      "Mean squared error: 267582355423.86\n",
      "Coefficient of determination: 0.15\n"
     ]
    },
    {
     "data": {
      "image/png": "[encoded data removed]",
      "text/plain": [
       "<Figure size 432x288 with 1 Axes>"
      ]
     },
     "metadata": {
      "needs_background": "light"
     },
     "output_type": "display_data"
    }
   ],
   "source": [
    "X = dataset[['Store','Temperature','CPI','Unemployment']]#he puesto aquellas que fuesen continuas\n",
    "y = dataset['Weekly_Sales']\n",
    "X_train, X_test, y_train, y_test = train_test_split(X, y, test_size = 0.2, random_state = 123)\n",
    "regr = LinearRegression().fit(X_train, y_train)\n",
    "print(\"Variance explanation R^2 = {}\".format(round(regr.score(X, y),2)))\n",
    "# Make predictions using the testing set\n",
    "y_pred = regr.predict(X_test)\n",
    "\n",
    "# The coefficients\n",
    "print(\"Coefficients: \\n\", regr.coef_)\n",
    "# The mean squared error\n",
    "print(\"Mean squared error: %.2f\" % mean_squared_error(y_test, y_pred))\n",
    "# The coefficient of determination: 1 is perfect prediction\n",
    "print(\"Coefficient of determination: %.2f\" % r2_score(y_test, y_pred))\n",
    "\n",
    "# Plot outputs\n",
    "plt.scatter(y_test, y_pred, color=\"black\")\n",
    "# plt.plot(X_test, y_pred, color=\"blue\", linewidth=3)\n",
    "\n",
    "\n",
    "plt.show()"
   ]
  },
  {
   "cell_type": "code",
   "execution_count": 115,
   "metadata": {},
   "outputs": [],
   "source": [
    "#CPI también"
   ]
  },
  {
   "cell_type": "code",
   "execution_count": 116,
   "metadata": {},
   "outputs": [
    {
     "name": "stdout",
     "output_type": "stream",
     "text": [
      "Variance explanation R^2 = 0.12\n",
      "Coefficients: \n",
      " [-14453.81662849  -2173.6771647   50391.38714349  -6458.40530713]\n",
      "Mean squared error: 274267407045.50\n",
      "Coefficient of determination: 0.13\n"
     ]
    },
    {
     "data": {
      "image/png": "[encoded data removed]",
      "text/plain": [
       "<Figure size 432x288 with 1 Axes>"
      ]
     },
     "metadata": {
      "needs_background": "light"
     },
     "output_type": "display_data"
    }
   ],
   "source": [
    "X = dataset[['Store','Temperature','Fuel_Price','Unemployment']]#he puesto aquellas que fuesen continuas\n",
    "y = dataset['Weekly_Sales']\n",
    "X_train, X_test, y_train, y_test = train_test_split(X, y, test_size = 0.2, random_state = 123)\n",
    "regr = LinearRegression().fit(X_train, y_train)\n",
    "print(\"Variance explanation R^2 = {}\".format(round(regr.score(X, y),2)))\n",
    "# Make predictions using the testing set\n",
    "y_pred = regr.predict(X_test)\n",
    "\n",
    "# The coefficients\n",
    "print(\"Coefficients: \\n\", regr.coef_)\n",
    "# The mean squared error\n",
    "print(\"Mean squared error: %.2f\" % mean_squared_error(y_test, y_pred))\n",
    "# The coefficient of determination: 1 is perfect prediction\n",
    "print(\"Coefficient of determination: %.2f\" % r2_score(y_test, y_pred))\n",
    "\n",
    "# Plot outputs\n",
    "plt.scatter(y_test, y_pred, color=\"black\")\n",
    "# plt.plot(X_test, y_pred, color=\"blue\", linewidth=3)\n",
    "\n",
    "\n",
    "plt.show()"
   ]
  },
  {
   "cell_type": "code",
   "execution_count": null,
   "metadata": {},
   "outputs": [],
   "source": [
    "#Unemployment no"
   ]
  },
  {
   "cell_type": "code",
   "execution_count": 117,
   "metadata": {},
   "outputs": [
    {
     "name": "stdout",
     "output_type": "stream",
     "text": [
      "Variance explanation R^2 = 0.11\n",
      "Coefficients: \n",
      " [-14213.6438591   -9433.76905098]\n",
      "Mean squared error: 276735989315.76\n",
      "Coefficient of determination: 0.12\n"
     ]
    },
    {
     "data": {
      "image/png": "[encoded data removed]",
      "text/plain": [
       "<Figure size 432x288 with 1 Axes>"
      ]
     },
     "metadata": {
      "needs_background": "light"
     },
     "output_type": "display_data"
    }
   ],
   "source": [
    "#Quito cpi, fuel price y temperatura\n",
    "X = dataset[['Store','Unemployment']]#he puesto aquellas que fuesen continuas\n",
    "y = dataset['Weekly_Sales']\n",
    "X_train, X_test, y_train, y_test = train_test_split(X, y, test_size = 0.2, random_state = 123)\n",
    "regr = LinearRegression().fit(X_train, y_train)\n",
    "print(\"Variance explanation R^2 = {}\".format(round(regr.score(X, y),2)))\n",
    "# Make predictions using the testing set\n",
    "y_pred = regr.predict(X_test)\n",
    "\n",
    "# The coefficients\n",
    "print(\"Coefficients: \\n\", regr.coef_)\n",
    "# The mean squared error\n",
    "print(\"Mean squared error: %.2f\" % mean_squared_error(y_test, y_pred))\n",
    "# The coefficient of determination: 1 is perfect prediction\n",
    "print(\"Coefficient of determination: %.2f\" % r2_score(y_test, y_pred))\n",
    "\n",
    "# Plot outputs\n",
    "plt.scatter(y_test, y_pred, color=\"black\")\n",
    "# plt.plot(X_test, y_pred, color=\"blue\", linewidth=3)\n",
    "\n",
    "\n",
    "plt.show()"
   ]
  },
  {
   "cell_type": "code",
   "execution_count": 118,
   "metadata": {},
   "outputs": [],
   "source": [
    "#Mucho peor"
   ]
  },
  {
   "cell_type": "code",
   "execution_count": 120,
   "metadata": {},
   "outputs": [],
   "source": [
    "dataset['multiplicación']=dataset['Fuel_Price']*dataset['CPI']"
   ]
  },
  {
   "cell_type": "code",
   "execution_count": 121,
   "metadata": {},
   "outputs": [
    {
     "name": "stdout",
     "output_type": "stream",
     "text": [
      "Variance explanation R^2 = 0.13\n",
      "Coefficients: \n",
      " [-14850.91724032   -960.13061098 -18626.16555623   -480.86639893]\n",
      "Mean squared error: 270695122916.89\n",
      "Coefficient of determination: 0.14\n"
     ]
    },
    {
     "data": {
      "image/png": "[encoded data removed]",
      "text/plain": [
       "<Figure size 432x288 with 1 Axes>"
      ]
     },
     "metadata": {
      "needs_background": "light"
     },
     "output_type": "display_data"
    }
   ],
   "source": [
    "#fuel price*cpi\n",
    "\n",
    "X = dataset[['Store','Temperature','Unemployment','multiplicación']]#he puesto aquellas que fuesen continuas\n",
    "y = dataset['Weekly_Sales']\n",
    "X_train, X_test, y_train, y_test = train_test_split(X, y, test_size = 0.2, random_state = 123)\n",
    "regr = LinearRegression().fit(X_train, y_train)\n",
    "print(\"Variance explanation R^2 = {}\".format(round(regr.score(X, y),2)))\n",
    "# Make predictions using the testing set\n",
    "y_pred = regr.predict(X_test)\n",
    "\n",
    "# The coefficients\n",
    "print(\"Coefficients: \\n\", regr.coef_)\n",
    "# The mean squared error\n",
    "print(\"Mean squared error: %.2f\" % mean_squared_error(y_test, y_pred))\n",
    "# The coefficient of determination: 1 is perfect prediction\n",
    "print(\"Coefficient of determination: %.2f\" % r2_score(y_test, y_pred))\n",
    "\n",
    "# Plot outputs\n",
    "plt.scatter(y_test, y_pred, color=\"black\")\n",
    "# plt.plot(X_test, y_pred, color=\"blue\", linewidth=3)\n",
    "\n",
    "\n",
    "plt.show()"
   ]
  },
  {
   "cell_type": "code",
   "execution_count": 125,
   "metadata": {},
   "outputs": [
    {
     "name": "stdout",
     "output_type": "stream",
     "text": [
      "Variance explanation R^2 = 0.14\n",
      "Coefficients: \n",
      " [ -15376.52552123   19781.62206932    -803.96691519 -292122.78437385\n",
      "   -8343.19995802  -20755.81663286   19781.62206931  -19781.62206931\n",
      "    1795.55565528]\n",
      "Mean squared error: 265771821949.79\n",
      "Coefficient of determination: 0.16\n"
     ]
    },
    {
     "data": {
      "image/png": "[encoded data removed]",
      "text/plain": [
       "<Figure size 432x288 with 1 Axes>"
      ]
     },
     "metadata": {
      "needs_background": "light"
     },
     "output_type": "display_data"
    }
   ],
   "source": [
    "#Voy a hacer la de todos menos Date que da problemas\n",
    "X = dataset.drop(columns=['Weekly_Sales','Date'])  # Características\n",
    "y = dataset['Weekly_Sales']\n",
    "X_train, X_test, y_train, y_test = train_test_split(X, y, test_size = 0.2, random_state = 123)\n",
    "regr = LinearRegression().fit(X_train, y_train)\n",
    "print(\"Variance explanation R^2 = {}\".format(round(regr.score(X, y),2)))\n",
    "# Make predictions using the testing set\n",
    "y_pred = regr.predict(X_test)\n",
    "\n",
    "# The coefficients\n",
    "print(\"Coefficients: \\n\", regr.coef_)\n",
    "# The mean squared error\n",
    "print(\"Mean squared error: %.2f\" % mean_squared_error(y_test, y_pred))\n",
    "# The coefficient of determination: 1 is perfect prediction\n",
    "print(\"Coefficient of determination: %.2f\" % r2_score(y_test, y_pred))\n",
    "\n",
    "# Plot outputs\n",
    "plt.scatter(y_test, y_pred, color=\"black\")\n",
    "# plt.plot(X_test, y_pred, color=\"blue\", linewidth=3)\n",
    "\n",
    "\n",
    "plt.show()"
   ]
  },
  {
   "cell_type": "markdown",
   "metadata": {
    "id": "mGA7Ob_kNrnO"
   },
   "source": [
    "b) Compara los modelos evalúando el R² y el error cuadrático medio (MSE). ¿Cuál es el modelo con mejores métricas? (0.5 puntos)\n"
   ]
  },
  {
   "cell_type": "markdown",
   "metadata": {
    "id": "FMHMy3pMOK91"
   },
   "source": [
    "Se ve que el mejor modelo tiene una R^2 de 0.14 y un Mean squared error: 265771821949.79 siendo este el último modelo ejecutado con todas las variables menos Date.\n"
   ]
  },
  {
   "cell_type": "markdown",
   "metadata": {
    "id": "QkfgUE26OL3M"
   },
   "source": [
    "# Ejercicio 5: Conclusiones y Recomendaciones (1 punto)\n",
    "\n",
    "a) Redacta un informe de máximo 500 palabras resumiendo los principales hallazgos del análisis de datos y la modelización. Incluye tus conclusiones sobre qué factores influyen más en las ventas y recomendaciones para la empresa basadas en el análisis."
   ]
  },
  {
   "cell_type": "markdown",
   "metadata": {
    "id": "nTsGlQS9VFND"
   },
   "source": [
    "Después de haber desarrollado todos estos análisis sobre los datos, he podido llegar a diferentes conclusiones sobre las ventas.\n",
    "Se pueda observar en este último apartado que las variables que más explican el modelo son 'Store' y 'Unemployment'. Además de las fecha como se puede ver en graafico lineal de \"Date\" vs \"Weekly_Sales.\"\n",
    "Además, de que el \"Fuel_Price\" no está relacionado con el 'Unemployment' y el 'Weekly_Sales'"
   ]
  }
 ],
 "metadata": {
  "colab": {
   "provenance": []
  },
  "kernelspec": {
   "display_name": "Python 3 (ipykernel)",
   "language": "python",
   "name": "python3"
  },
  "language_info": {
   "codemirror_mode": {
    "name": "ipython",
    "version": 3
   },
   "file_extension": ".py",
   "mimetype": "text/x-python",
   "name": "python",
   "nbconvert_exporter": "python",
   "pygments_lexer": "ipython3",
   "version": "3.9.7"
  }
 },
 "nbformat": 4,
 "nbformat_minor": 1
}
